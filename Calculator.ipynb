{
 "cells": [
  {
   "cell_type": "code",
   "execution_count": null,
   "metadata": {},
   "outputs": [],
   "source": [
    "space = ' '*25\n",
    "print(\"%s My Calculator\" %space)\n",
    "print(\"Operation Types\")\n",
    "print(\"Press + for Addition\")\n",
    "print(\"Press - for Subtraction\")\n",
    "print(\"Press * for Multiplication\")\n",
    "print(\"Press / for Division\")\n",
    "\n",
    "x = int(input(\"Enter 1st number: \"))\n",
    "y = int(input(\"Enter 2nd number: \"))\n",
    "n = input(\"Choose any one operation: \")\n",
    "if ( n == '+'):\n",
    "    print(x+y)\n",
    "elif ( n == '-'):\n",
    "    print(x-y)\n",
    "elif ( n == '*'):\n",
    "    print(x*y)\n",
    "elif ( n == '/'):\n",
    "    print(x/y)\n",
    "else:\n",
    "    print(\"Unexpected Error\")"
   ]
  },
  {
   "cell_type": "code",
   "execution_count": null,
   "metadata": {},
   "outputs": [],
   "source": []
  }
 ],
 "metadata": {
  "kernelspec": {
   "display_name": "Python 3",
   "language": "python",
   "name": "python3"
  },
  "language_info": {
   "codemirror_mode": {
    "name": "ipython",
    "version": 3
   },
   "file_extension": ".py",
   "mimetype": "text/x-python",
   "name": "python",
   "nbconvert_exporter": "python",
   "pygments_lexer": "ipython3",
   "version": "3.7.4"
  }
 },
 "nbformat": 4,
 "nbformat_minor": 2
}
